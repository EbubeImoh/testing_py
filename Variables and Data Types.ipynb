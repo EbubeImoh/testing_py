{
 "cells": [
  {
   "cell_type": "markdown",
   "id": "1bf21f16-f9dd-49e0-ac20-2d4171f6500e",
   "metadata": {},
   "source": [
    "Variables and Data Types"
   ]
  },
  {
   "cell_type": "markdown",
   "id": "0273e336-6bb1-4912-a630-0d1888444498",
   "metadata": {},
   "source": [
    "Integers"
   ]
  },
  {
   "cell_type": "code",
   "execution_count": 11,
   "id": "4c7033a1-697b-4a17-9d49-9f608130a5f8",
   "metadata": {},
   "outputs": [],
   "source": [
    "x=100"
   ]
  },
  {
   "cell_type": "code",
   "execution_count": 12,
   "id": "6783e311-f20e-4d48-8f9b-ec7a7c730392",
   "metadata": {},
   "outputs": [
    {
     "data": {
      "text/plain": [
       "int"
      ]
     },
     "execution_count": 12,
     "metadata": {},
     "output_type": "execute_result"
    }
   ],
   "source": [
    "type(x)"
   ]
  },
  {
   "cell_type": "code",
   "execution_count": 13,
   "id": "4929e3f0-3712-4227-a547-cca75881f3ac",
   "metadata": {},
   "outputs": [
    {
     "data": {
      "text/plain": [
       "int"
      ]
     },
     "execution_count": 13,
     "metadata": {},
     "output_type": "execute_result"
    }
   ],
   "source": [
    "x=654*6734\n",
    "type(x)"
   ]
  },
  {
   "cell_type": "code",
   "execution_count": 14,
   "id": "a21422ab-31e7-43dd-a85a-802bcc5cba55",
   "metadata": {},
   "outputs": [
    {
     "name": "stdout",
     "output_type": "stream",
     "text": [
      "4404036\n"
     ]
    }
   ],
   "source": [
    "print(x)"
   ]
  },
  {
   "cell_type": "markdown",
   "id": "e2f9a641-f279-4fb6-95b9-aa0c33d2d540",
   "metadata": {},
   "source": [
    "Floats"
   ]
  },
  {
   "cell_type": "code",
   "execution_count": 15,
   "id": "499dd30d-9950-458d-af08-f48a2ca61650",
   "metadata": {},
   "outputs": [],
   "source": [
    "x=3.14"
   ]
  },
  {
   "cell_type": "code",
   "execution_count": 16,
   "id": "54b85fa1-7fad-4c3c-984f-3c55e910a68d",
   "metadata": {},
   "outputs": [
    {
     "data": {
      "text/plain": [
       "float"
      ]
     },
     "execution_count": 16,
     "metadata": {},
     "output_type": "execute_result"
    }
   ],
   "source": [
    "type(x)"
   ]
  },
  {
   "cell_type": "markdown",
   "id": "c81ecb8e-b2a2-4a3c-9792-2052121123da",
   "metadata": {},
   "source": [
    "Strings"
   ]
  },
  {
   "cell_type": "code",
   "execution_count": 17,
   "id": "e3ab5c23-deee-4012-b834-577470848641",
   "metadata": {},
   "outputs": [],
   "source": [
    "x='Simplilearn'"
   ]
  },
  {
   "cell_type": "code",
   "execution_count": 18,
   "id": "9ae7ed1a-e200-4af2-b299-fa64f19f2136",
   "metadata": {},
   "outputs": [
    {
     "name": "stdout",
     "output_type": "stream",
     "text": [
      "Simplilearn\n"
     ]
    }
   ],
   "source": [
    "print(x)"
   ]
  },
  {
   "cell_type": "code",
   "execution_count": 19,
   "id": "703d1570-6a78-4a1c-878d-481ba1c8b4a4",
   "metadata": {},
   "outputs": [
    {
     "name": "stdout",
     "output_type": "stream",
     "text": [
      "Simplilearn\n"
     ]
    }
   ],
   "source": [
    "x=\"Simplilearn\"\n",
    "print(x)"
   ]
  },
  {
   "cell_type": "code",
   "execution_count": 20,
   "id": "14a82016-772d-4f76-b5f3-03821bf7e11c",
   "metadata": {},
   "outputs": [
    {
     "data": {
      "text/plain": [
       "str"
      ]
     },
     "execution_count": 20,
     "metadata": {},
     "output_type": "execute_result"
    }
   ],
   "source": [
    "type(x)"
   ]
  },
  {
   "cell_type": "markdown",
   "id": "319cbbfe-34c3-455d-93b1-fe6bd63c12e6",
   "metadata": {},
   "source": [
    "Lists"
   ]
  },
  {
   "cell_type": "code",
   "execution_count": 21,
   "id": "ca8f9dcd-b7ab-43ff-9683-76debed2f502",
   "metadata": {},
   "outputs": [],
   "source": [
    "x=[14,67,9]"
   ]
  },
  {
   "cell_type": "code",
   "execution_count": 22,
   "id": "3cfff952-669b-4504-aca6-55fe205a7c99",
   "metadata": {},
   "outputs": [
    {
     "name": "stdout",
     "output_type": "stream",
     "text": [
      "[14, 67, 9]\n"
     ]
    }
   ],
   "source": [
    "print(x)"
   ]
  },
  {
   "cell_type": "code",
   "execution_count": 23,
   "id": "2ea39ad8-5dd6-43f1-8e74-33882a6e335a",
   "metadata": {},
   "outputs": [
    {
     "data": {
      "text/plain": [
       "list"
      ]
     },
     "execution_count": 23,
     "metadata": {},
     "output_type": "execute_result"
    }
   ],
   "source": [
    "type(x)"
   ]
  },
  {
   "cell_type": "code",
   "execution_count": 24,
   "id": "6ac2e1bd-64da-4955-968b-1b1b1786f461",
   "metadata": {},
   "outputs": [
    {
     "name": "stdout",
     "output_type": "stream",
     "text": [
      "14\n"
     ]
    }
   ],
   "source": [
    "print(x[0])"
   ]
  },
  {
   "cell_type": "code",
   "execution_count": 25,
   "id": "df544cdb-2860-4e14-92bc-ca664d3a7baa",
   "metadata": {},
   "outputs": [
    {
     "name": "stdout",
     "output_type": "stream",
     "text": [
      "9\n"
     ]
    }
   ],
   "source": [
    "print(x[2])"
   ]
  },
  {
   "cell_type": "code",
   "execution_count": 26,
   "id": "372c8c70-e587-4f85-9611-b2001a3268af",
   "metadata": {},
   "outputs": [],
   "source": [
    "x[2]=67"
   ]
  },
  {
   "cell_type": "code",
   "execution_count": 27,
   "id": "2dd43eff-f4ae-4b78-8580-f3a8dd817f8b",
   "metadata": {},
   "outputs": [
    {
     "name": "stdout",
     "output_type": "stream",
     "text": [
      "[14, 67, 67]\n"
     ]
    }
   ],
   "source": [
    "print(x)"
   ]
  },
  {
   "cell_type": "markdown",
   "id": "fab0c57f-d157-4846-b667-3f2ae6703696",
   "metadata": {},
   "source": [
    "Tuple"
   ]
  },
  {
   "cell_type": "code",
   "execution_count": 29,
   "id": "27d1b366-9193-4af7-ab84-8f6908b2d9cd",
   "metadata": {},
   "outputs": [
    {
     "name": "stdout",
     "output_type": "stream",
     "text": [
      "(4, 8, 6)\n"
     ]
    }
   ],
   "source": [
    "x=(4,8,6)\n",
    "print(x)"
   ]
  },
  {
   "cell_type": "code",
   "execution_count": 30,
   "id": "ada45fad-2b78-49d0-8664-206370e7fcef",
   "metadata": {},
   "outputs": [
    {
     "data": {
      "text/plain": [
       "tuple"
      ]
     },
     "execution_count": 30,
     "metadata": {},
     "output_type": "execute_result"
    }
   ],
   "source": [
    "type(x)"
   ]
  },
  {
   "cell_type": "code",
   "execution_count": 31,
   "id": "9dcf3f3c-45d6-4003-af7f-165f6de78b0a",
   "metadata": {},
   "outputs": [
    {
     "name": "stdout",
     "output_type": "stream",
     "text": [
      "8\n"
     ]
    }
   ],
   "source": [
    "print(x[1])"
   ]
  },
  {
   "cell_type": "markdown",
   "id": "28f3e102-8961-4fde-973e-9a22ffd8aee8",
   "metadata": {},
   "source": [
    "File Pointer"
   ]
  },
  {
   "cell_type": "code",
   "execution_count": 1,
   "id": "b1914938-fb3d-4c64-9a01-663d4ed9373b",
   "metadata": {},
   "outputs": [],
   "source": [
    "x=open('README.txt','r')"
   ]
  },
  {
   "cell_type": "code",
   "execution_count": 2,
   "id": "b261b85e-deff-44eb-9ab4-4cff781ccbb0",
   "metadata": {},
   "outputs": [
    {
     "data": {
      "text/plain": [
       "_io.TextIOWrapper"
      ]
     },
     "execution_count": 2,
     "metadata": {},
     "output_type": "execute_result"
    }
   ],
   "source": [
    "type(x)"
   ]
  },
  {
   "cell_type": "markdown",
   "id": "36dcade0-2afc-4a48-88fd-230fc32a3249",
   "metadata": {},
   "source": [
    "Assigning values to multiple variables"
   ]
  },
  {
   "cell_type": "code",
   "execution_count": 3,
   "id": "7d3b39a4-f481-450e-9d10-2566029de181",
   "metadata": {},
   "outputs": [],
   "source": [
    "(x,y,z)=5,10,7"
   ]
  },
  {
   "cell_type": "code",
   "execution_count": 4,
   "id": "357246b0-eda8-4c41-90ab-fd7e1d08b7f6",
   "metadata": {},
   "outputs": [
    {
     "name": "stdout",
     "output_type": "stream",
     "text": [
      "5\n",
      "10\n",
      "7\n"
     ]
    }
   ],
   "source": [
    "print(x)\n",
    "print(y)\n",
    "print(z)"
   ]
  },
  {
   "cell_type": "code",
   "execution_count": 5,
   "id": "960346ac-b1fa-477e-924c-515e0e17249a",
   "metadata": {},
   "outputs": [],
   "source": [
    "x=y=z=1"
   ]
  },
  {
   "cell_type": "code",
   "execution_count": 6,
   "id": "d63414bf-7877-464b-ade5-4aca384f91e8",
   "metadata": {},
   "outputs": [
    {
     "name": "stdout",
     "output_type": "stream",
     "text": [
      "1 1 1\n"
     ]
    }
   ],
   "source": [
    "print(x,y,z)"
   ]
  },
  {
   "cell_type": "markdown",
   "id": "235c125c-3528-4ac6-9daf-5478255deb21",
   "metadata": {},
   "source": [
    "Naming Conventions"
   ]
  },
  {
   "cell_type": "code",
   "execution_count": 7,
   "id": "28662c65-f2a5-42eb-b205-f4fd27e7e691",
   "metadata": {},
   "outputs": [],
   "source": [
    "a100=100\n",
    "A100=200"
   ]
  },
  {
   "cell_type": "code",
   "execution_count": 8,
   "id": "7c3e41b3-98ed-4d60-a74f-557cdb0b2ba5",
   "metadata": {},
   "outputs": [
    {
     "name": "stdout",
     "output_type": "stream",
     "text": [
      "100 200\n"
     ]
    }
   ],
   "source": [
    "print(a100,A100)"
   ]
  },
  {
   "cell_type": "markdown",
   "id": "dc7d0127-54f1-456c-971b-bb1973fe937a",
   "metadata": {},
   "source": [
    "Arithmetic Operations"
   ]
  },
  {
   "cell_type": "code",
   "execution_count": 9,
   "id": "6d90c052-6165-4f75-8e88-950a74393429",
   "metadata": {},
   "outputs": [],
   "source": [
    "x=20\n",
    "y=10"
   ]
  },
  {
   "cell_type": "code",
   "execution_count": 11,
   "id": "ccb19ae1-b21d-4c02-81fa-30cea604b03b",
   "metadata": {},
   "outputs": [
    {
     "name": "stdout",
     "output_type": "stream",
     "text": [
      "30\n"
     ]
    }
   ],
   "source": [
    "result=x+y\n",
    "print(result)"
   ]
  },
  {
   "cell_type": "code",
   "execution_count": 12,
   "id": "aba10ad4-631c-491b-95a3-5e0d621edbf4",
   "metadata": {},
   "outputs": [
    {
     "name": "stdout",
     "output_type": "stream",
     "text": [
      "10\n"
     ]
    }
   ],
   "source": [
    "result=x-y\n",
    "print(result)"
   ]
  },
  {
   "cell_type": "code",
   "execution_count": 13,
   "id": "4f347e06-aba1-475e-bd2f-3cd199e65a6c",
   "metadata": {},
   "outputs": [
    {
     "name": "stdout",
     "output_type": "stream",
     "text": [
      "2.0\n"
     ]
    }
   ],
   "source": [
    "result=x/y\n",
    "print(result)"
   ]
  },
  {
   "cell_type": "code",
   "execution_count": 14,
   "id": "f7877b24-fd62-438b-bbf6-7072ffcc8fe0",
   "metadata": {},
   "outputs": [
    {
     "name": "stdout",
     "output_type": "stream",
     "text": [
      "2\n"
     ]
    }
   ],
   "source": [
    "result=x//y\n",
    "print(result)"
   ]
  },
  {
   "cell_type": "code",
   "execution_count": 15,
   "id": "ffd27b0b-a091-467c-a9a6-550c02a11668",
   "metadata": {},
   "outputs": [
    {
     "name": "stdout",
     "output_type": "stream",
     "text": [
      "0\n"
     ]
    }
   ],
   "source": [
    "result=x%y\n",
    "print(result)"
   ]
  },
  {
   "cell_type": "markdown",
   "id": "900e6102-ef65-4f1b-9484-c66a6cd155e2",
   "metadata": {},
   "source": [
    "String Operations"
   ]
  },
  {
   "cell_type": "code",
   "execution_count": 16,
   "id": "3ac9f88e-3bae-405d-9b2a-6c044bd434a1",
   "metadata": {},
   "outputs": [],
   "source": [
    "var='Simplilearn'"
   ]
  },
  {
   "cell_type": "code",
   "execution_count": 17,
   "id": "da30617a-32bf-413f-8582-e5caa7725c07",
   "metadata": {},
   "outputs": [
    {
     "name": "stdout",
     "output_type": "stream",
     "text": [
      "S\n"
     ]
    }
   ],
   "source": [
    "print(var[0])"
   ]
  },
  {
   "cell_type": "code",
   "execution_count": 18,
   "id": "3abe9a7e-aa34-4faa-ae6b-9bd1d3f2546d",
   "metadata": {},
   "outputs": [
    {
     "name": "stdout",
     "output_type": "stream",
     "text": [
      "l\n"
     ]
    }
   ],
   "source": [
    "print(var[4])"
   ]
  },
  {
   "cell_type": "code",
   "execution_count": 19,
   "id": "440687d6-3845-400f-bec8-d9389317df5a",
   "metadata": {},
   "outputs": [
    {
     "name": "stdout",
     "output_type": "stream",
     "text": [
      "Sim\n"
     ]
    }
   ],
   "source": [
    "print(var[0:3])"
   ]
  },
  {
   "cell_type": "code",
   "execution_count": 20,
   "id": "2b194078-ae2b-46fd-b4cc-366035af60ab",
   "metadata": {},
   "outputs": [
    {
     "name": "stdout",
     "output_type": "stream",
     "text": [
      "Sim\n"
     ]
    }
   ],
   "source": [
    "print(var[:3])"
   ]
  },
  {
   "cell_type": "code",
   "execution_count": null,
   "id": "8bc05ffa-f146-4f18-8a1d-8d5204bcd318",
   "metadata": {},
   "outputs": [
    {
     "name": "stdout",
     "output_type": "stream",
     "text": [
      "ilearn\n"
     ]
    }
   ],
   "source": [
    "print(var[5:])"
   ]
  },
  {
   "cell_type": "markdown",
   "id": "bc9d8629-f860-4623-aca3-010df8b852e1",
   "metadata": {},
   "source": [
    "Exercise"
   ]
  },
  {
   "cell_type": "code",
   "execution_count": 22,
   "id": "874b1b5c-8a40-4517-bb19-db8686e80741",
   "metadata": {},
   "outputs": [],
   "source": [
    "var1=\"It's Sunday\"\n",
    "var2=\"Have a great day\""
   ]
  },
  {
   "cell_type": "code",
   "execution_count": 33,
   "id": "d5a14503-edf8-4628-949f-c1c5e59182bf",
   "metadata": {},
   "outputs": [],
   "source": [
    "var3=var1[:5]+var2[5:13]+var1[5:]"
   ]
  },
  {
   "cell_type": "code",
   "execution_count": 34,
   "id": "6b73544b-2647-4b30-8acd-bb509e2375c4",
   "metadata": {},
   "outputs": [
    {
     "name": "stdout",
     "output_type": "stream",
     "text": [
      "It's a great Sunday\n"
     ]
    }
   ],
   "source": [
    "print(var3)"
   ]
  },
  {
   "cell_type": "markdown",
   "id": "8564af68-47d2-47fc-bf05-d85b82d70882",
   "metadata": {},
   "source": [
    "Exercise"
   ]
  },
  {
   "cell_type": "code",
   "execution_count": 39,
   "id": "b94c9ebc-bfe5-42f4-a8ce-5f4521f3f407",
   "metadata": {},
   "outputs": [],
   "source": [
    "a=100\n",
    "b=200"
   ]
  },
  {
   "cell_type": "code",
   "execution_count": 40,
   "id": "09352e63-bae6-45c0-b193-1e01ad1da1f6",
   "metadata": {},
   "outputs": [],
   "source": [
    "c=b"
   ]
  },
  {
   "cell_type": "code",
   "execution_count": 41,
   "id": "b490f7e0-be35-4511-8b1c-8d38294b000e",
   "metadata": {},
   "outputs": [],
   "source": [
    "b=a"
   ]
  },
  {
   "cell_type": "code",
   "execution_count": 42,
   "id": "ed790413-f683-44d8-b754-0ea1892efe27",
   "metadata": {},
   "outputs": [],
   "source": [
    "a=c"
   ]
  },
  {
   "cell_type": "code",
   "execution_count": 45,
   "id": "94aaaa6a-9e5b-4bdc-9850-bad7837e0f1a",
   "metadata": {},
   "outputs": [
    {
     "name": "stdout",
     "output_type": "stream",
     "text": [
      "200 100\n"
     ]
    }
   ],
   "source": [
    "print(a,b)"
   ]
  },
  {
   "cell_type": "markdown",
   "id": "97a40a23-1b7b-4474-b816-c4d8f78de243",
   "metadata": {},
   "source": [
    "Exercise"
   ]
  },
  {
   "cell_type": "markdown",
   "id": "4c95d9b9-a54c-4d59-b812-0ff9227ddf14",
   "metadata": {},
   "source": [
    "Write a program that uses input to prompt a user for their name and\n",
    "then welcomes them."
   ]
  },
  {
   "cell_type": "code",
   "execution_count": 47,
   "id": "ed9d7e2d-fe08-49c3-a5a3-f4168c24305c",
   "metadata": {},
   "outputs": [
    {
     "name": "stdin",
     "output_type": "stream",
     "text": [
      "Enter your name:  Chuck\n"
     ]
    },
    {
     "name": "stdout",
     "output_type": "stream",
     "text": [
      "Hello Chuck\n"
     ]
    }
   ],
   "source": [
    "greeting='Hello '\n",
    "name=input('Enter your name: ')\n",
    "print(greeting+name)"
   ]
  },
  {
   "cell_type": "markdown",
   "id": "231420cd-86c7-4146-a981-f2d7772a607a",
   "metadata": {},
   "source": [
    "Write a program to prompt the user for hours and rate per hour to\n",
    "compute gross pay"
   ]
  },
  {
   "cell_type": "code",
   "execution_count": 50,
   "id": "0b03eea0-03f1-444f-942e-49b8932a797f",
   "metadata": {},
   "outputs": [
    {
     "name": "stdin",
     "output_type": "stream",
     "text": [
      "Enter Hours:  35\n",
      "Enter Rate:  2.75\n"
     ]
    },
    {
     "name": "stdout",
     "output_type": "stream",
     "text": [
      "Pay:  96.25\n"
     ]
    }
   ],
   "source": [
    "hours=float(input('Enter Hours: '))\n",
    "rate=float(input('Enter Rate: ') )\n",
    "gross_pay=hours*rate\n",
    "print('Pay: ', gross_pay)"
   ]
  },
  {
   "cell_type": "markdown",
   "id": "983a77a9-7b0b-4c6e-ab39-bcf87ccb323f",
   "metadata": {},
   "source": [
    "Assume that we execute the following assignment statements:"
   ]
  },
  {
   "cell_type": "code",
   "execution_count": 51,
   "id": "c38d70a8-14b4-4ef4-97e3-01ce43527af8",
   "metadata": {},
   "outputs": [],
   "source": [
    "width = 17\n",
    "height = 12.0"
   ]
  },
  {
   "cell_type": "code",
   "execution_count": 52,
   "id": "edd7907c-ac06-4681-a95a-684ae2234439",
   "metadata": {},
   "outputs": [
    {
     "data": {
      "text/plain": [
       "8"
      ]
     },
     "execution_count": 52,
     "metadata": {},
     "output_type": "execute_result"
    }
   ],
   "source": [
    "width//2"
   ]
  },
  {
   "cell_type": "code",
   "execution_count": 53,
   "id": "eac2ddc2-4145-4a5e-a194-7ec3aed93b67",
   "metadata": {},
   "outputs": [
    {
     "data": {
      "text/plain": [
       "8.5"
      ]
     },
     "execution_count": 53,
     "metadata": {},
     "output_type": "execute_result"
    }
   ],
   "source": [
    "width/2.0"
   ]
  },
  {
   "cell_type": "code",
   "execution_count": 54,
   "id": "82a4aec1-3e27-4f75-86ff-0ea5b8c859de",
   "metadata": {},
   "outputs": [
    {
     "data": {
      "text/plain": [
       "4.0"
      ]
     },
     "execution_count": 54,
     "metadata": {},
     "output_type": "execute_result"
    }
   ],
   "source": [
    "height/3"
   ]
  },
  {
   "cell_type": "markdown",
   "id": "cc8bd606-f209-4fd2-a2c0-bc21613042c6",
   "metadata": {},
   "source": [
    "Write a program which prompts the user for a Celsius temperature,\n",
    "convert the temperature to Fahrenheit, and print out the converted temperature."
   ]
  },
  {
   "cell_type": "code",
   "execution_count": 57,
   "id": "2fb12b00-c3e4-4dce-8e89-932cad4d9e78",
   "metadata": {},
   "outputs": [
    {
     "name": "stdin",
     "output_type": "stream",
     "text": [
      "Enter your temperature in Celsius:  32\n"
     ]
    },
    {
     "name": "stdout",
     "output_type": "stream",
     "text": [
      "Your temperature in Fahrenheit is:  89.6\n"
     ]
    }
   ],
   "source": [
    "C=int(input('Enter your temperature in Celsius: '))\n",
    "F=(C*1.8)+32\n",
    "print('Your temperature in Fahrenheit is: ' ,F)"
   ]
  },
  {
   "cell_type": "code",
   "execution_count": null,
   "id": "08470eeb-f0ab-4f6d-b021-55904a5ae900",
   "metadata": {},
   "outputs": [],
   "source": []
  }
 ],
 "metadata": {
  "kernelspec": {
   "display_name": "Python 3 (ipykernel)",
   "language": "python",
   "name": "python3"
  },
  "language_info": {
   "codemirror_mode": {
    "name": "ipython",
    "version": 3
   },
   "file_extension": ".py",
   "mimetype": "text/x-python",
   "name": "python",
   "nbconvert_exporter": "python",
   "pygments_lexer": "ipython3",
   "version": "3.10.9"
  }
 },
 "nbformat": 4,
 "nbformat_minor": 5
}
